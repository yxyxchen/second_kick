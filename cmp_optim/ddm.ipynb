{
 "cells": [
  {
   "cell_type": "code",
   "execution_count": null,
   "metadata": {},
   "outputs": [],
   "source": [
    "conditions, delayMaxs, blockMin, blockSec, nBlock, tokenValue, smallReward, iti, pareto, tGrid, kmGrid = expParas()"
   ]
  },
  {
   "cell_type": "code",
   "execution_count": null,
   "metadata": {},
   "outputs": [],
   "source": [
    "# parameters \n",
    "ldr = 0.1 # drift rate \n",
    "glr = 0.01 # global drift rate \n",
    "lprior = tokenValiue # prior local reward rate \n",
    "gprior = (0.8333333333333335 + 0.9309250282337017)/2 * 0.8 # prior global reward rate \n",
    "stayBias = 0 # a bias to stay \n",
    "desThresh = 10 # decision threshold \n",
    "\n",
    "# variables \n",
    "t = 0\n",
    "local_rate = lprior\n",
    "globa_rate = gprior\n",
    "leaveDes = 0\n",
    "stayDes = 0\n",
    "\n",
    "\n",
    "# update throughout time steps \n",
    "## value layer is updated in every time second \n",
    "## decision layer is not updated during iti \n",
    "bin = 1 \n",
    "n = 100\n",
    "\n",
    "for i in range(n):\n",
    "    ldr =  \n",
    "    \n",
    "\n",
    "\n",
    "\n",
    "\n",
    "\n",
    "\n",
    "\n"
   ]
  }
 ],
 "metadata": {
  "kernelspec": {
   "display_name": "Python 3",
   "language": "python",
   "name": "python3"
  },
  "language_info": {
   "codemirror_mode": {
    "name": "ipython",
    "version": 3
   },
   "file_extension": ".py",
   "mimetype": "text/x-python",
   "name": "python",
   "nbconvert_exporter": "python",
   "pygments_lexer": "ipython3",
   "version": "3.7.4"
  }
 },
 "nbformat": 4,
 "nbformat_minor": 4
}
